{
 "metadata": {
  "name": "",
  "signature": "sha256:cea8869481c70cead521e1681b0d62dfd5d96436b97cc29811108ecee22d11f0"
 },
 "nbformat": 3,
 "nbformat_minor": 0,
 "worksheets": []
}